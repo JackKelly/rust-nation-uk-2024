{
 "cells": [
  {
   "cell_type": "code",
   "execution_count": 1,
   "id": "b72a4a65-a8a8-4b94-a17d-4acb30f7679d",
   "metadata": {},
   "outputs": [
    {
     "name": "stderr",
     "output_type": "stream",
     "text": [
      "🔗 Found pyo3 bindings\n",
      "🐍 Found CPython 3.12 at /home/jack/miniconda3/envs/rust-nation-uk-2024-pyo3/bin/python\n",
      "📡 Using build options features from pyproject.toml\n",
      "\u001b[1m\u001b[32m   Compiling\u001b[0m re-rs v0.1.0 (/home/jack/dev/rust/rust-nation-uk-2024/crates/thursday-PyO3)\n",
      "\u001b[1m\u001b[32m    Finished\u001b[0m dev [unoptimized + debuginfo] target(s) in 1.19s\n",
      "📦 Built wheel for CPython 3.12 to /tmp/.tmpjZrVwY/re_rs-0.1.0-cp312-cp312-linux_x86_64.whl\n"
     ]
    },
    {
     "name": "stdout",
     "output_type": "stream",
     "text": [
      "✏️  Setting installed package as editable\n"
     ]
    },
    {
     "name": "stderr",
     "output_type": "stream",
     "text": [
      "🛠 Installed re-rs-0.1.0\n"
     ]
    }
   ],
   "source": [
    "%%bash\n",
    "maturin develop"
   ]
  },
  {
   "cell_type": "code",
   "execution_count": 2,
   "id": "4f3f272e-34ae-4e65-b2ec-61db62dbce9e",
   "metadata": {},
   "outputs": [],
   "source": [
    "import re_rs"
   ]
  },
  {
   "cell_type": "code",
   "execution_count": 5,
   "id": "41677f1d-fd35-4e4e-98d1-251f599b8f52",
   "metadata": {},
   "outputs": [
    {
     "data": {
      "text/plain": [
       "<Pattern at 0x7879501365b0>"
      ]
     },
     "execution_count": 5,
     "metadata": {},
     "output_type": "execute_result"
    }
   ],
   "source": [
    "r = re_rs.compile(\"123.+def\")\n",
    "r"
   ]
  },
  {
   "cell_type": "code",
   "execution_count": 6,
   "id": "6c7ff3ec-2635-4d22-9af7-2ce8720a9c62",
   "metadata": {},
   "outputs": [
    {
     "data": {
      "text/plain": [
       "'123foodef'"
      ]
     },
     "execution_count": 6,
     "metadata": {},
     "output_type": "execute_result"
    }
   ],
   "source": [
    "r.search(\"123foodef\")"
   ]
  },
  {
   "cell_type": "code",
   "execution_count": null,
   "id": "728e151b-daed-4aa6-a297-2ea0d38f41ab",
   "metadata": {},
   "outputs": [],
   "source": []
  }
 ],
 "metadata": {
  "kernelspec": {
   "display_name": "Python 3 (ipykernel)",
   "language": "python",
   "name": "python3"
  },
  "language_info": {
   "codemirror_mode": {
    "name": "ipython",
    "version": 3
   },
   "file_extension": ".py",
   "mimetype": "text/x-python",
   "name": "python",
   "nbconvert_exporter": "python",
   "pygments_lexer": "ipython3",
   "version": "3.12.2"
  }
 },
 "nbformat": 4,
 "nbformat_minor": 5
}
